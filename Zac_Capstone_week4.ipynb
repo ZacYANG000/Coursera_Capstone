{
 "cells": [
  {
   "cell_type": "markdown",
   "metadata": {},
   "source": [
    "## <center>Finding the right place to open a new popular coffee shop -week1"
   ]
  },
  {
   "cell_type": "markdown",
   "metadata": {},
   "source": [
    "### Introduction"
   ]
  },
  {
   "cell_type": "markdown",
   "metadata": {},
   "source": [
    "Zac is a owner of a popular coffee shop in the City of Vancouver with an average rating 4.8 on the Foursquare. To expand his business, he plans to open a new coffee shop in Toronto. So he consults Larry where is the best place for him"
   ]
  },
  {
   "cell_type": "markdown",
   "metadata": {},
   "source": [
    "To help Zac, Larry lists a couple of factors that could help Zac's business to succeed with priority:\n",
    "\n",
    "__Essentials:__\n",
    "1. **The average rating of the coffee shops in the place should be as low as possible**\n",
    "2. **The number of other high rated coffee shop(above 4.5) should be as low as possible**\n",
    "\n",
    "Bonus:      \n",
    "1. The visitors flow should be as high as possible"
   ]
  },
  {
   "cell_type": "markdown",
   "metadata": {},
   "source": [
    "### Data to use"
   ]
  },
  {
   "cell_type": "markdown",
   "metadata": {},
   "source": [
    "1. __the rating for all the coffee shops__\n",
    "2. The visitors flow"
   ]
  },
  {
   "cell_type": "code",
   "execution_count": null,
   "metadata": {},
   "outputs": [],
   "source": []
  }
 ],
 "metadata": {
  "kernelspec": {
   "display_name": "Python 3",
   "language": "python",
   "name": "python3"
  },
  "language_info": {
   "codemirror_mode": {
    "name": "ipython",
    "version": 3
   },
   "file_extension": ".py",
   "mimetype": "text/x-python",
   "name": "python",
   "nbconvert_exporter": "python",
   "pygments_lexer": "ipython3",
   "version": "3.7.4"
  }
 },
 "nbformat": 4,
 "nbformat_minor": 2
}
